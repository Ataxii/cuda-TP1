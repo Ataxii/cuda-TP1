{
  "nbformat": 4,
  "nbformat_minor": 0,
  "metadata": {
    "colab": {
      "provenance": []
    },
    "kernelspec": {
      "name": "python3",
      "display_name": "Python 3"
    },
    "language_info": {
      "name": "python"
    },
    "accelerator": "GPU",
    "gpuClass": "standard"
  },
  "cells": [
    {
      "cell_type": "markdown",
      "source": [
        "# Configuration de Cuda dans Google Colab"
      ],
      "metadata": {
        "id": "qE-HbkLWqjJK"
      }
    },
    {
      "cell_type": "code",
      "execution_count": null,
      "metadata": {
        "id": "OJjU5zI_-tjl"
      },
      "outputs": [],
      "source": [
        "!nvcc -V"
      ]
    },
    {
      "cell_type": "code",
      "source": [
        "!pip install git+https://github.com/andreinechaev/nvcc4jupyter.git"
      ],
      "metadata": {
        "id": "HBZjh4P4-1HE"
      },
      "execution_count": null,
      "outputs": []
    },
    {
      "cell_type": "markdown",
      "source": [
        "## On vérifie que l'on est bien connecté au GPU"
      ],
      "metadata": {
        "id": "YJw3IWdqtpfb"
      }
    },
    {
      "cell_type": "code",
      "source": [
        "gpu_info = !nvidia-smi\n",
        "gpu_info = '\\n'.join(gpu_info)\n",
        "if gpu_info.find('failed') >= 0:\n",
        "  print('Not connected to a GPU')\n",
        "else:\n",
        "  print(gpu_info)"
      ],
      "metadata": {
        "id": "9gl_4Pn7_JR2"
      },
      "execution_count": null,
      "outputs": []
    },
    {
      "cell_type": "markdown",
      "source": [
        "## Chargement du plugin nvcc permettant de compiler/executer les programmes Cuda"
      ],
      "metadata": {
        "id": "NlBBvVVOt4Bz"
      }
    },
    {
      "cell_type": "code",
      "source": [
        "%load_ext nvcc_plugin"
      ],
      "metadata": {
        "id": "6YGSePh_Q_DP"
      },
      "execution_count": null,
      "outputs": []
    },
    {
      "cell_type": "markdown",
      "source": [
        "## Un makefile est déjà à votre disposition pour compiler les programme du TP\n"
      ],
      "metadata": {
        "id": "0zrHyBuVuQpB"
      }
    },
    {
      "cell_type": "markdown",
      "source": [
        "### 1. Executez la cellule du Makefile\n"
      ],
      "metadata": {
        "id": "AWS3uSGwu2o2"
      }
    },
    {
      "cell_type": "code",
      "source": [
        "%%writefile Makefile\n",
        "# Change the example variable to build a different source module (e.g. EXAMPLE=exercice01)\n",
        "EXAMPLE=program\n",
        "\n",
        "# Makefile variables \n",
        "# Add extra targets to OBJ with space separator e.g. If there is as source file random.c then add random.o to OBJ)\n",
        "# Add any additional dependancies (header files) to DEPS. e.g. if there is aheader file random.h required by your source modules then add this to DEPS.\n",
        "CC=gcc\n",
        "CFLAGS= -O3 -Wextra -fopenmp\n",
        "NVCC=nvcc\n",
        "NVCC_FLAGS= -gencode arch=compute_75,code=sm_75\n",
        "OBJ=$(EXAMPLE).o\n",
        "DEPS=\n",
        "\n",
        "# Build rule for object files ($@ is left hand side of rule, $< is first item from the right hand side of rule)\n",
        "%.o : %.cu $(DEPS)\n",
        "\t$(NVCC) -c -o $@ $< $(NVCC_FLAGS) $(addprefix -Xcompiler ,$(CCFLAGS))\n",
        "\n",
        "# Make example ($^ is all items from right hand side of the rule)\n",
        "$(EXAMPLE) : $(OBJ)\n",
        "\t$(NVCC) -o $@ $^ $(NVCC_FLAGS) $(addprefix -Xcompiler ,$(CCFLAGS))\n",
        "\n",
        "# PHONY prevents make from doing something with a filename called clean\n",
        ".PHONY : clean\n",
        "clean:\n",
        "\trm -rf $(EXAMPLE) $(OBJ)"
      ],
      "metadata": {
        "id": "2VMs5wjdRU0g"
      },
      "execution_count": null,
      "outputs": []
    },
    {
      "cell_type": "markdown",
      "source": [
        "### 2. Executez la cellule program.cu\n",
        "\n",
        "\n",
        "\n"
      ],
      "metadata": {
        "id": "yh3sHnryu_fP"
      }
    },
    {
      "cell_type": "code",
      "source": [
        "%%writefile program.cu\n",
        "#include <stdlib.h>\n",
        "#include <stdio.h>\n",
        "#include <math.h>\n",
        "\n",
        "int main(void){\n",
        "  printf(\"Hello World !\\n\");\n",
        "  return 0;\n",
        "}"
      ],
      "metadata": {
        "id": "tNwvItfrTXqV"
      },
      "execution_count": null,
      "outputs": []
    },
    {
      "cell_type": "markdown",
      "source": [
        "### 3. Compilez et lancer le programme en executant les 2 cellules suivantes"
      ],
      "metadata": {
        "id": "MiDHTqR-vTpC"
      }
    },
    {
      "cell_type": "code",
      "source": [
        "!make"
      ],
      "metadata": {
        "id": "jnTIU9R0TevR"
      },
      "execution_count": null,
      "outputs": []
    },
    {
      "cell_type": "code",
      "source": [
        "!./program"
      ],
      "metadata": {
        "id": "4dlcvraTUSzB"
      },
      "execution_count": null,
      "outputs": []
    },
    {
      "cell_type": "markdown",
      "source": [
        "# TP 1"
      ],
      "metadata": {
        "id": "ri3OU-i0vt2X"
      }
    },
    {
      "cell_type": "markdown",
      "source": [
        "## 1. Fonctions utilitaires\n",
        "\n",
        "utils.h est un header contenant des fonctions utilitaires qui seront utilisés par nos programmes"
      ],
      "metadata": {
        "id": "0OuzG337-nlS"
      }
    },
    {
      "cell_type": "code",
      "source": [
        "%%writefile utils.h\n",
        "#ifndef __UTILS_H__\n",
        "#define __UTILS_H__\n",
        "#include <stdio.h>\n",
        "\n",
        "static void HandleError( cudaError_t err,\n",
        "                         const char *file,\n",
        "                         int line ) {\n",
        "    if (err != cudaSuccess) {\n",
        "        printf( \"%s in %s at line %d\\n\", cudaGetErrorString( err ),\n",
        "                file, line );\n",
        "        exit( EXIT_FAILURE );\n",
        "    }\n",
        "}\n",
        "#define HANDLE_ERROR( err ) (HandleError( err, __FILE__, __LINE__ ))\n",
        "\n",
        "\n",
        "#define HANDLE_NULL( a ) {if (a == NULL) { \\\n",
        "                            printf( \"Host memory failed in %s at line %d\\n\", \\\n",
        "                                    __FILE__, __LINE__ ); \\\n",
        "                            exit( EXIT_FAILURE );}}\n",
        "\n",
        "template< typename T >\n",
        "void swap( T& a, T& b ) {\n",
        "    T t = a;\n",
        "    a = b;\n",
        "    b = t;\n",
        "}\n",
        "\n",
        "\n",
        "void* big_random_block( int size ) {\n",
        "    unsigned char *data = (unsigned char*)malloc( size );\n",
        "    HANDLE_NULL( data );\n",
        "    for (int i=0; i<size; i++)\n",
        "        data[i] = rand();\n",
        "\n",
        "    return data;\n",
        "}\n",
        "\n",
        "int* big_random_block_int( int size ) {\n",
        "    int *data = (int*)malloc( size * sizeof(int) );\n",
        "    HANDLE_NULL( data );\n",
        "    for (int i=0; i<size; i++)\n",
        "        data[i] = rand();\n",
        "\n",
        "    return data;\n",
        "}\n",
        "\n",
        "\n",
        "// a place for common kernels - starts here\n",
        "\n",
        "__device__ unsigned char value( float n1, float n2, int hue ) {\n",
        "    if (hue > 360)      hue -= 360;\n",
        "    else if (hue < 0)   hue += 360;\n",
        "\n",
        "    if (hue < 60)\n",
        "        return (unsigned char)(255 * (n1 + (n2-n1)*hue/60));\n",
        "    if (hue < 180)\n",
        "        return (unsigned char)(255 * n2);\n",
        "    if (hue < 240)\n",
        "        return (unsigned char)(255 * (n1 + (n2-n1)*(240-hue)/60));\n",
        "    return (unsigned char)(255 * n1);\n",
        "}\n",
        "\n",
        "__global__ void float_to_color( unsigned char *optr,\n",
        "                              const float *outSrc ) {\n",
        "    // map from threadIdx/BlockIdx to pixel position\n",
        "    int x = threadIdx.x + blockIdx.x * blockDim.x;\n",
        "    int y = threadIdx.y + blockIdx.y * blockDim.y;\n",
        "    int offset = x + y * blockDim.x * gridDim.x;\n",
        "\n",
        "    float l = outSrc[offset];\n",
        "    float s = 1;\n",
        "    int h = (180 + (int)(360.0f * outSrc[offset])) % 360;\n",
        "    float m1, m2;\n",
        "\n",
        "    if (l <= 0.5f)\n",
        "        m2 = l * (1 + s);\n",
        "    else\n",
        "        m2 = l + s - l * s;\n",
        "    m1 = 2 * l - m2;\n",
        "\n",
        "    optr[offset*4 + 0] = value( m1, m2, h+120 );\n",
        "    optr[offset*4 + 1] = value( m1, m2, h );\n",
        "    optr[offset*4 + 2] = value( m1, m2, h -120 );\n",
        "    optr[offset*4 + 3] = 255;\n",
        "}\n",
        "\n",
        "__global__ void float_to_color( uchar4 *optr,\n",
        "                              const float *outSrc ) {\n",
        "    // map from threadIdx/BlockIdx to pixel position\n",
        "    int x = threadIdx.x + blockIdx.x * blockDim.x;\n",
        "    int y = threadIdx.y + blockIdx.y * blockDim.y;\n",
        "    int offset = x + y * blockDim.x * gridDim.x;\n",
        "\n",
        "    float l = outSrc[offset];\n",
        "    float s = 1;\n",
        "    int h = (180 + (int)(360.0f * outSrc[offset])) % 360;\n",
        "    float m1, m2;\n",
        "\n",
        "    if (l <= 0.5f)\n",
        "        m2 = l * (1 + s);\n",
        "    else\n",
        "        m2 = l + s - l * s;\n",
        "    m1 = 2 * l - m2;\n",
        "\n",
        "    optr[offset].x = value( m1, m2, h+120 );\n",
        "    optr[offset].y = value( m1, m2, h );\n",
        "    optr[offset].z = value( m1, m2, h -120 );\n",
        "    optr[offset].w = 255;\n",
        "}\n",
        "\n",
        "\n",
        "#if _WIN32\n",
        "    //Windows threads.\n",
        "    #include <windows.h>\n",
        "\n",
        "    typedef HANDLE CUTThread;\n",
        "    typedef unsigned (WINAPI *CUT_THREADROUTINE)(void *);\n",
        "\n",
        "    #define CUT_THREADPROC unsigned WINAPI\n",
        "    #define  CUT_THREADEND return 0\n",
        "\n",
        "#else\n",
        "    //POSIX threads.\n",
        "    #include <pthread.h>\n",
        "\n",
        "    typedef pthread_t CUTThread;\n",
        "    typedef void *(*CUT_THREADROUTINE)(void *);\n",
        "\n",
        "    #define CUT_THREADPROC void\n",
        "    #define  CUT_THREADEND\n",
        "#endif\n",
        "\n",
        "//Create thread.\n",
        "CUTThread start_thread( CUT_THREADROUTINE, void *data );\n",
        "\n",
        "//Wait for thread to finish.\n",
        "void end_thread( CUTThread thread );\n",
        "\n",
        "//Destroy thread.\n",
        "void destroy_thread( CUTThread thread );\n",
        "\n",
        "//Wait for multiple threads.\n",
        "void wait_for_threads( const CUTThread *threads, int num );\n",
        "\n",
        "#if _WIN32\n",
        "    //Create thread\n",
        "    CUTThread start_thread(CUT_THREADROUTINE func, void *data){\n",
        "        return CreateThread(NULL, 0, (LPTHREAD_START_ROUTINE)func, data, 0, NULL);\n",
        "    }\n",
        "\n",
        "    //Wait for thread to finish\n",
        "    void end_thread(CUTThread thread){\n",
        "        WaitForSingleObject(thread, INFINITE);\n",
        "        CloseHandle(thread);\n",
        "    }\n",
        "\n",
        "    //Destroy thread\n",
        "    void destroy_thread( CUTThread thread ){\n",
        "        TerminateThread(thread, 0);\n",
        "        CloseHandle(thread);\n",
        "    }\n",
        "\n",
        "    //Wait for multiple threads\n",
        "    void wait_for_threads(const CUTThread * threads, int num){\n",
        "        WaitForMultipleObjects(num, threads, true, INFINITE);\n",
        "\n",
        "        for(int i = 0; i < num; i++)\n",
        "            CloseHandle(threads[i]);\n",
        "    }\n",
        "\n",
        "#else\n",
        "    //Create thread\n",
        "    CUTThread start_thread(CUT_THREADROUTINE func, void * data){\n",
        "        pthread_t thread;\n",
        "        pthread_create(&thread, NULL, func, data);\n",
        "        return thread;\n",
        "    }\n",
        "\n",
        "    //Wait for thread to finish\n",
        "    void end_thread(CUTThread thread){\n",
        "        pthread_join(thread, NULL);\n",
        "    }\n",
        "\n",
        "    //Destroy thread\n",
        "    void destroy_thread( CUTThread thread ){\n",
        "        pthread_cancel(thread);\n",
        "    }\n",
        "\n",
        "    //Wait for multiple threads\n",
        "    void wait_for_threads(const CUTThread * threads, int num){\n",
        "        for(int i = 0; i < num; i++)\n",
        "            end_thread( threads[i] );\n",
        "    }\n",
        "\n",
        "#endif\n",
        "\n",
        "\n",
        "\n",
        "\n",
        "#endif  // __UTILS_H__"
      ],
      "metadata": {
        "id": "oQtSuC51lTSW"
      },
      "execution_count": null,
      "outputs": []
    },
    {
      "cell_type": "markdown",
      "source": [
        "Le code suivant vous permet d'afficher certaines propriétés de la carte graphiqe qui seront expliqué en cours.\n"
      ],
      "metadata": {
        "id": "Qd0IM7yvQD9p"
      }
    },
    {
      "cell_type": "code",
      "source": [
        "%%writefile program.cu\n",
        "#include <stdio.h>\n",
        "#include \"utils.h\"\n",
        "\n",
        "int main(void){\n",
        "  cudaDeviceProp prop;\n",
        "\n",
        "  int count;\n",
        "  HANDLE_ERROR(cudaGetDeviceCount(&count));\n",
        "\n",
        "  for (int i=0; i< count; i++) {\n",
        "    HANDLE_ERROR(cudaGetDeviceProperties(&prop, i));\n",
        "    printf(\"Name: %s\\n\", prop.name);\n",
        "    printf(\"Compute capability: %d.%d\\n\", prop.major, prop.minor);\n",
        "    printf(\"Clock rate: %d\\n\", prop.clockRate);\n",
        "    printf(\"Device copy overlap: \");\n",
        "    if (prop.deviceOverlap)\n",
        "      printf(\"Enabled\\n\");\n",
        "    else\n",
        "      printf(\"Disabled\\n\");\n",
        "    printf(\"Kernel execution timeout : \");\n",
        "    if (prop.kernelExecTimeoutEnabled)\n",
        "      printf(\"Enabled\\n\");\n",
        "    else\n",
        "      printf(\"Disabled\\n\");\n",
        "\n",
        "      printf(\" --- Memory Information for device %d ---\\n\", i);\n",
        "      printf(\"Total global mem: %ld\\n\", prop.totalGlobalMem);\n",
        "      printf(\"Total constant mem: %ld\\n\", prop.totalConstMem);\n",
        "      printf(\"Max mem pitch: %ld\\n\", prop.memPitch);\n",
        "      printf(\"Texture Alignment: %ld\\n\", prop.textureAlignment);\n",
        "\n",
        "      printf(\" --- MP Information for device %d ---\\n\", i);\n",
        "      printf(\"multiprocessor count : %d\\n\", prop.multiProcessorCount);\n",
        "      printf(\"shared mem per mp: %ld\\n\", prop.sharedMemPerBlock);\n",
        "      printf(\"Registers per mp: %d\\n\", prop.regsPerBlock);\n",
        "      printf(\"Threads in warp: %d\\n\", prop.warpSize);\n",
        "      printf(\"Max threads per block: %d\\n\", prop.maxThreadsPerBlock);\n",
        "      printf(\"Max thread dimensions: (%d, %d, %d)\\n\", prop.maxThreadsDim[0], prop.maxThreadsDim[1], prop.maxThreadsDim[2]);\n",
        "      printf(\"Max grid dimensions: (%d, %d, %d)\\n\", prop.maxGridSize[0], prop.maxGridSize[1], prop.maxGridSize[2]);\n",
        "      printf(\"\\n\");\n",
        "\n",
        "  }\n",
        "  return 0;\n",
        "}"
      ],
      "metadata": {
        "id": "uOtXXy7HQEbs"
      },
      "execution_count": null,
      "outputs": []
    },
    {
      "cell_type": "code",
      "source": [
        "!make"
      ],
      "metadata": {
        "id": "CcNME9WbQH0H"
      },
      "execution_count": null,
      "outputs": []
    },
    {
      "cell_type": "code",
      "source": [
        "!./program"
      ],
      "metadata": {
        "id": "XVsW3QV-QKqR"
      },
      "execution_count": null,
      "outputs": []
    },
    {
      "cell_type": "markdown",
      "source": [
        "## 2. Votre premier programme CUDA"
      ],
      "metadata": {
        "id": "oLDkWdM4_WGm"
      }
    },
    {
      "cell_type": "code",
      "source": [
        "%%writefile program.cu\n",
        "#include <stdio.h>\n",
        "#include \"utils.h\"\n",
        "\n",
        "__global__ void add(int a, int b, int *c) {\n",
        "  *c = a + b;\n",
        "}\n",
        "\n",
        "int main(void){\n",
        "  int c;\n",
        "  int *dev_c;\n",
        "  HANDLE_ERROR(cudaMalloc((void**)&dev_c, sizeof(int)));\n",
        "  add<<<1,1>>>(2, 7, dev_c);\n",
        "  HANDLE_ERROR(cudaMemcpy(&c, dev_c, sizeof(int), cudaMemcpyDeviceToHost));\n",
        "  printf(\"2 + 7 = %d\\n\", c);\n",
        "  cudaFree(dev_c);\n",
        "  return 0;\n",
        "}"
      ],
      "metadata": {
        "id": "JBQAJSYCUior"
      },
      "execution_count": null,
      "outputs": []
    },
    {
      "cell_type": "markdown",
      "source": [
        "### Program.cu\n",
        "\n",
        "Si vous avez des bases en programmation C, vous devriez noter quelques différences entre un programme classique et le program.cu :\n",
        "\n",
        "\n",
        "*   La fonction void add(int a, int b, int \\*c) est préfixé de \\_\\_global\\_\\_ \\\\\n",
        "\n",
        "  Cela veut dire que la fonction est un **kernel**, une fonction s'exécutant sur la carte graphique. Le compilateur comprend que la fonction s'exècute sur la GPU grâce au préfixe \\_\\_global\\_\\_.\n",
        "*   L'instruction cudaMalloc((void\\*\\*)&dev_c, sizeof(int)) \\\\\n",
        "\n",
        "  Vous avez du voir en C que pour allouer de la mémoire à un pointeur, on utilise la fonction **malloc**. **cudaMalloc** permet d'allouer de la mémoire à un pointeur directement sur la RAM de la carte graphique.\n",
        "*   cudaFree(dev_c) \\\\\n",
        "\n",
        "  Pareil que **free** en C pour libérer la mémoire d'un pointeur, mais libère la mémoire GPU.\n",
        "*   add<<<1,1>>>(2, 7, dev_c) \\\\\n",
        "\n",
        "  C'est comme cela que l'on lance un kernel (une fonction préfixé de \\_\\_global\\_\\_ qui s'exécute sur la carte graphique) en Cuda. Le premier 1 correspond au nombre de blocs que l'on veut utiliser, le deuxième au nombre de threads. Ne vous inquiétez pas si vous ne comprenez pas bien ces termes, nous reviendrons dessus plus tard. \n",
        "\n",
        "  Vous pouvez le voir comme cela : add<<<nb_blocs, nb_threads>>>(2, 7, dev_c), avec nb_blocs égale à 1 et nb_threads égale à 1.\n",
        "\n",
        "*   cudaMemcpy(&c, dev_c, sizeof(int), cudaMemcpyDeviceToHost) \\\\\n",
        "\n",
        "  Une fois les instructions du kernel ayant terminé de s'exécuter sur le GPU, le résultat est stocké dans le pointeur dev_c, c'est à dire dans la mémoire RAM de la carte graphique. Afin de pouvoir utiliser ce résultat dans le **main** qui est utilisé par le CPU, il nous faut copier le contenu de dev_c dans la mémoire RAM de l'ordinateur, qui est utilisé par le CPU. Cela se fait grâce à l'instruction **cudaMemcpy**, qui dans cet exemple copie le contenu de dev_c dans le pointeur c.\n",
        "\n",
        "* HANDLE_ERROR() \\\\\n",
        "\n",
        "  Il n'est pas évident de débuguer un programme Cuda, nous verrons plus tard pourquoi. Chaque instruction Cuda est appelé à l'intérieur de la fonction HANDLE_ERROR() pour que l'on puisse savoir laquelle a produit un erreur.\n",
        "\n",
        "Compilez et exécutez le programme.\n"
      ],
      "metadata": {
        "id": "A6WRW6KLAqf-"
      }
    },
    {
      "cell_type": "code",
      "source": [
        "!make"
      ],
      "metadata": {
        "id": "pcJxGLd4lSdG"
      },
      "execution_count": null,
      "outputs": []
    },
    {
      "cell_type": "code",
      "source": [
        "!./program"
      ],
      "metadata": {
        "id": "LsP3ZU-7mT1k"
      },
      "execution_count": null,
      "outputs": []
    },
    {
      "cell_type": "markdown",
      "source": [
        "## 3. Addition de vecteurs\n",
        "\n",
        "Le but de cette exercice est de se familiariser avec les bases de cuda en programmant une addition de vecteurs sur GPU. Le programme suivant est un programme classique en C qui additionne deux vecteurs et stocke le résultat dans le vecteur **c**."
      ],
      "metadata": {
        "id": "XpwTm9Ns1bZq"
      }
    },
    {
      "cell_type": "code",
      "source": [
        "%%writefile program.cu\n",
        "#include <stdio.h>\n",
        "#include <time.h>\n",
        "#include \"utils.h\"\n",
        "\n",
        "#define N 10\n",
        "\n",
        "void add(int *a, int *b, int *c){\n",
        "  int tid = 0; // This is the CPU 0, so we start at 0\n",
        "  while(tid < N){\n",
        "    c[tid] = a[tid] + b[tid];\n",
        "    tid += 1; // We have one CPU, so we increment by one\n",
        "  }\n",
        "}\n",
        "\n",
        "int main(void){\n",
        "  int a[N], b[N], c[N];\n",
        "  \n",
        "  // fill the arrays 'a' and 'b' on the CPU\n",
        "  for (int i=0; i<N; i++){\n",
        "    a[i] = -i;\n",
        "    b[i] = i * i;\n",
        "  }\n",
        "\n",
        "  add(a, b, c);\n",
        "\n",
        "  //display the results\n",
        "  for(int i=0; i<N; i++){\n",
        "    printf(\"%d + %d = %d\\n\", a[i], b[i], c[i]);\n",
        "  }\n",
        "\n",
        "  return 0;\n",
        "}"
      ],
      "metadata": {
        "id": "QFfcWy9J1-CZ"
      },
      "execution_count": null,
      "outputs": []
    },
    {
      "cell_type": "code",
      "source": [
        "!make"
      ],
      "metadata": {
        "id": "IsbUnHYVzCKJ"
      },
      "execution_count": null,
      "outputs": []
    },
    {
      "cell_type": "code",
      "source": [
        "!./program"
      ],
      "metadata": {
        "id": "_RkvP454zDf7"
      },
      "execution_count": null,
      "outputs": []
    },
    {
      "cell_type": "markdown",
      "source": [
        "### 3.1 Addition de vecteurs par blocs de threads\n",
        "\n",
        "Le but de cet exercice est d'additioner les deux vecteurs **a** et **b** sur GPU en utilisant N blocs de 1 threads.\n",
        "\n",
        "Le kernel pour cet exercice vous est donné : \n",
        "\n",
        "```c\n",
        "__global__ void add(int *a, int *b, int *c){\n",
        "  int tid = blockIdx.x;\n",
        "  if(tid < N)\n",
        "    c[tid] = a[tid] + b[tid];\n",
        "}\n",
        "```\n",
        "Vous remarquerez qu'il n'y a pas de boucle dans cette fonction. En effet, chaque bloc contient 1 unique threads, ce qui nous donne N threads (car N blocs). Chaque bloc se contente d'additioner un et un seul élément des vecteur de taille N. Les blocs s'executent en parallèle.\n",
        "\n",
        "Pour récupérer l'indice d'un bloc, on récupère la variable x de la structure CUDA blockIdx. \n",
        "\n",
        "En vous aidant de votre premier programme CUDA, complétez le code suivant :\n",
        "\n",
        "1.   Allouez la mémoire des pointeurs \\*dev_a, \\*dev_b, \\*dev_c.\n",
        "2.   Copiez le contenu du pointeur **a** dans **dev_a** et de **b** dans **dev_b**\n",
        "3. Lancez le kernel avec N blocs et 1 thread\n",
        "4. Copiez le contenu du pointeur **dev_c** dans **c**\n",
        "5. Libérez la mémoire des pointeurs.\n",
        "\n",
        "\n",
        "\n",
        "\n"
      ],
      "metadata": {
        "id": "q1B1zLCrCoju"
      }
    },
    {
      "cell_type": "code",
      "source": [
        "%%writefile program.cu\n",
        "#include <stdio.h>\n",
        "#include <cuda_runtime.h>\n",
        "#include \"utils.h\"\n",
        "\n",
        "\n",
        "#define N 10\n",
        "\n",
        "__global__ void add(int *a, int *b, int *c){\n",
        "  int tid = blockIdx.x;\n",
        "  if(tid < N)\n",
        "    c[tid] = a[tid] + b[tid];\n",
        "}\n",
        "\n",
        "int main(void){\n",
        "  int a[N], b[N], c[N];\n",
        "  int *dev_a, *dev_b, *dev_c;\n",
        "\n",
        "  // 1. Allocation de mémoire\n",
        "  // ECRIVEZ LE CODE ICI\n",
        "\n",
        "  // fill the arrays 'a' and 'b' on the CPU\n",
        "  for (int i=0; i<N; i++){\n",
        "    a[i] = -i;\n",
        "    b[i] = i * i;\n",
        "  }\n",
        "\n",
        "  // 2. Copie de mémoire CPU(Host) vers GPU(Device)\n",
        "  // ECRIVEZ LE CODE ICI\n",
        "  \n",
        "  // 3. Lancement du kernel\n",
        "  // ECRIVEZ LE CODE ICI\n",
        "\n",
        "  // 4. Copie de mémoire GPU vers CPU\n",
        "  // ECRIVEZ LE CODE ICI\n",
        "  \n",
        "  // Display the results\n",
        "  for(int i=0; i<N; i++){\n",
        "    printf(\"%d + %d = %d\\n\", a[i], b[i], c[i]);\n",
        "  }\n",
        "\n",
        "  // 4. Libéré la mémoire\n",
        "  // ECRIVEZ LE CODE ICI\n",
        "  return 0;\n",
        "}"
      ],
      "metadata": {
        "id": "v9YrgP9qzLRD"
      },
      "execution_count": null,
      "outputs": []
    },
    {
      "cell_type": "code",
      "source": [
        "!make"
      ],
      "metadata": {
        "id": "TWphOpSN2LYe"
      },
      "execution_count": null,
      "outputs": []
    },
    {
      "cell_type": "code",
      "source": [
        "!./program"
      ],
      "metadata": {
        "id": "uNtnza4j2NM0"
      },
      "execution_count": null,
      "outputs": []
    },
    {
      "cell_type": "markdown",
      "source": [
        "### 3.2 Addition de vecteurs par threads d'un seul bloc\n",
        "Le but de cet exercice est le même que précédement sauf que à la place d'avoir N blocs de 1 threads, on utilise 1 bloc de N threads\n",
        "\n",
        "Le kernel ne vous ai pas donné cette fois.\n",
        "\n",
        "Complétez le code suivant :\n",
        "\n",
        "1. Complétez le kernel pour avoir une indexation par thread et non par bloc\n",
        "2.   Allouez la mémoire des pointeurs \\*dev_a, \\*dev_b, \\*dev_c.\n",
        "3.   Copiez le contenu du pointeur **a** dans **dev_a** et de **b** dans **dev_b**\n",
        "4. Lancez le kernel avec N blocs et 1 thread\n",
        "5. Copiez le contenu du pointeur **dev_c** dans **c**\n",
        "6. Libérez la mémoire des pointeurs.\n"
      ],
      "metadata": {
        "id": "2ZbopFq_IRE2"
      }
    },
    {
      "cell_type": "code",
      "source": [
        "%%writefile program.cu\n",
        "#include <stdio.h>\n",
        "#include <cuda_runtime.h>\n",
        "#include \"utils.h\"\n",
        "\n",
        "#define N 10\n",
        "\n",
        "__global__ void add(int *a, int *b, int *c){\n",
        "  // 1. Addition et indexation par thread\n",
        "  // ECRIVEZ LE CODE ICI\n",
        "}\n",
        "\n",
        "int main(void){\n",
        "  int a[N], b[N], c[N];\n",
        "  int *dev_a, *dev_b, *dev_c;\n",
        "\n",
        "  // 2. Allocation de mémoire\n",
        "  // ECRIVEZ LE CODE ICI\n",
        "\n",
        "  // fill the arrays 'a' and 'b' on the CPU\n",
        "  for (int i=0; i<N; i++){\n",
        "    a[i] = -i;\n",
        "    b[i] = i * i;\n",
        "  }\n",
        "\n",
        "  // 3. Copie de mémoire CPU(Host) vers GPU(Device)\n",
        "  // ECRIVEZ LE CODE ICI\n",
        "  \n",
        "  // 4. Lancement du kernel\n",
        "  // ECRIVEZ LE CODE ICI\n",
        "\n",
        "  // 5. Copie de mémoire GPU vers CPU\n",
        "  // ECRIVEZ LE CODE ICI\n",
        "  \n",
        "  // Display the results\n",
        "  for(int i=0; i<N; i++){\n",
        "    printf(\"%d + %d = %d\\n\", a[i], b[i], c[i]);\n",
        "  }\n",
        "\n",
        "  // 6. Libéré la mémoire\n",
        "  // ECRIVEZ LE CODE ICI\n",
        "  return 0;\n",
        "}"
      ],
      "metadata": {
        "id": "lUFeqR7q2sOz"
      },
      "execution_count": null,
      "outputs": []
    },
    {
      "cell_type": "code",
      "source": [
        "!make"
      ],
      "metadata": {
        "id": "ZlhmaXook-PQ"
      },
      "execution_count": null,
      "outputs": []
    },
    {
      "cell_type": "code",
      "source": [
        "!./program"
      ],
      "metadata": {
        "id": "yrtbVr1_lGzr"
      },
      "execution_count": null,
      "outputs": []
    },
    {
      "cell_type": "markdown",
      "source": [
        "### 3.3 Multiplication vectorielle par blocs de threads\n",
        "Nous avons maintenant 256 threads par bloc. Le but de cet exercice est de trouver le nombre de blocs optimal pour réaliser un multiplication vectorielle sur GPU.\n",
        "\n",
        "Complétez le code suivant :\n",
        "\n",
        "1. Trouvez le nombre de bloc optimal à utiliser. \n",
        "2. Trouvez l'index global des threads"
      ],
      "metadata": {
        "id": "Wrht9pxyKO3V"
      }
    },
    {
      "cell_type": "code",
      "source": [
        "%%writefile program.cu\n",
        "#include <stdio.h>\n",
        "#include <stdlib.h>\n",
        "#include <math.h>\n",
        "\n",
        "#define N 10000\n",
        "\n",
        "__global__ void multiply(float* a, float* b, float* c, int n) {\n",
        "  int id = // 2. Trouver l'index global des threads\n",
        "  if (id < n) {\n",
        "    c[id] = a[id] * b[id];\n",
        "  }\n",
        "}\n",
        "\n",
        "int main() {\n",
        "  float *a, *b, *c;\n",
        "  cudaMallocManaged(&a, N * sizeof(float));\n",
        "  cudaMallocManaged(&b, N * sizeof(float));\n",
        "  cudaMallocManaged(&c, N * sizeof(float));\n",
        "\n",
        "  for (int i = 0; i < N; i++) {\n",
        "    a[i] = rand() / (float)RAND_MAX;\n",
        "    b[i] = rand() / (float)RAND_MAX;\n",
        "  }\n",
        "\n",
        "  int nb_threads = 256;\n",
        "  int nb_blocks = // 1. Trouvez le nombre de bloc optimal.\n",
        "\n",
        "  multiply<<<nb_blocks, nb_threads>>>(a, b, c, N);\n",
        "  cudaDeviceSynchronize();\n",
        "\n",
        "  float error = 0.0;\n",
        "  for (int i = 0; i < N; i++) {\n",
        "    error += fabs(c[i] - a[i] * b[i]);\n",
        "  }\n",
        "  printf(\"Error: %f\\n\", error);\n",
        "\n",
        "  cudaFree(a);\n",
        "  cudaFree(b);\n",
        "  cudaFree(c);\n",
        "\n",
        "  return 0;\n",
        "}\n"
      ],
      "metadata": {
        "id": "R1Hy6CrzlIl9"
      },
      "execution_count": null,
      "outputs": []
    },
    {
      "cell_type": "code",
      "source": [
        "!make"
      ],
      "metadata": {
        "id": "6vJjUAqcWRd2"
      },
      "execution_count": null,
      "outputs": []
    },
    {
      "cell_type": "code",
      "source": [
        "!./program"
      ],
      "metadata": {
        "id": "Tk_OIyfLWSPu"
      },
      "execution_count": null,
      "outputs": []
    },
    {
      "cell_type": "code",
      "source": [],
      "metadata": {
        "id": "dj8zwpHWWUe2"
      },
      "execution_count": null,
      "outputs": []
    }
  ]
}